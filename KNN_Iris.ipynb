{
  "nbformat": 4,
  "nbformat_minor": 0,
  "metadata": {
    "colab": {
      "provenance": []
    },
    "kernelspec": {
      "name": "python3",
      "display_name": "Python 3"
    },
    "language_info": {
      "name": "python"
    }
  },
  "cells": [
    {
      "cell_type": "code",
      "source": [
        "import csv\n",
        "import random\n",
        "import numpy as np\n",
        "import pandas as pd"
      ],
      "metadata": {
        "id": "fK2qHyD97J_0"
      },
      "execution_count": 86,
      "outputs": []
    },
    {
      "cell_type": "code",
      "execution_count": 87,
      "metadata": {
        "id": "rfh-0YjR6smT"
      },
      "outputs": [],
      "source": [
        "df = pd.read_csv('/content/iris.csv')\n",
        "df=df.drop(columns=['variety.classnames'])\n",
        "df=df[['sepal.length', 'sepal.width',\n",
        "       'petal.length', 'petal.width','variety.class']]\n",
        "data_list = df.values.tolist()"
      ]
    },
    {
      "cell_type": "code",
      "source": [
        "df.columns"
      ],
      "metadata": {
        "colab": {
          "base_uri": "https://localhost:8080/"
        },
        "id": "4Mh7-Wr--XGc",
        "outputId": "ed683726-ca91-4e33-e4dd-c6ed5607598d"
      },
      "execution_count": 88,
      "outputs": [
        {
          "output_type": "execute_result",
          "data": {
            "text/plain": [
              "Index(['sepal.length', 'sepal.width', 'petal.length', 'petal.width',\n",
              "       'variety.class'],\n",
              "      dtype='object')"
            ]
          },
          "metadata": {},
          "execution_count": 88
        }
      ]
    },
    {
      "cell_type": "code",
      "source": [
        "training_Set = []\n",
        "test_set = []\n",
        "random.shuffle(data_list)"
      ],
      "metadata": {
        "id": "jGi7CGYs9kfU"
      },
      "execution_count": 89,
      "outputs": []
    },
    {
      "cell_type": "code",
      "source": [
        "data_list[0]"
      ],
      "metadata": {
        "colab": {
          "base_uri": "https://localhost:8080/"
        },
        "id": "xIZbkTCC8h6x",
        "outputId": "a915b45b-bea5-4e99-a62d-b007c5ede853"
      },
      "execution_count": 90,
      "outputs": [
        {
          "output_type": "execute_result",
          "data": {
            "text/plain": [
              "[6.1, 2.8, 4.7, 1.2, 1.0]"
            ]
          },
          "metadata": {},
          "execution_count": 90
        }
      ]
    },
    {
      "cell_type": "code",
      "source": [
        "for i in data_list:\n",
        "    prob = np.random.random()\n",
        "    if 0 <= prob <= 0.8:\n",
        "        training_Set.append(list(map(float, i)))\n",
        "    else:\n",
        "        test_set.append(list(map(float, i)))\n",
        "\n",
        "features = len(training_Set[0]) - 1"
      ],
      "metadata": {
        "id": "y6cwBVI38aPU"
      },
      "execution_count": 91,
      "outputs": []
    },
    {
      "cell_type": "code",
      "source": [
        "X_train = np.array([row[:features] for row in training_Set])\n",
        "y_train = np.array([int(row[-1]) for row in training_Set])\n",
        "X_test = np.array([row[:features] for row in test_set])\n",
        "y_test = np.array([int(row[-1]) for row in test_set])\n",
        "\n",
        "print(\"X_train shape:\", X_train.shape)\n",
        "print(\"y_train shape:\", y_train.shape)\n",
        "print(\"X_test shape:\", X_test.shape)\n",
        "print(\"y_test shape:\", y_test.shape)"
      ],
      "metadata": {
        "colab": {
          "base_uri": "https://localhost:8080/"
        },
        "id": "N49pjKIH_8Gt",
        "outputId": "4541a342-e119-4445-b2ac-303751d5ed06"
      },
      "execution_count": 92,
      "outputs": [
        {
          "output_type": "stream",
          "name": "stdout",
          "text": [
            "X_train shape: (124, 4)\n",
            "y_train shape: (124,)\n",
            "X_test shape: (26, 4)\n",
            "y_test shape: (26,)\n"
          ]
        }
      ]
    },
    {
      "cell_type": "code",
      "source": [
        "k=3"
      ],
      "metadata": {
        "id": "d62YlhsgClLE"
      },
      "execution_count": 93,
      "outputs": []
    },
    {
      "cell_type": "code",
      "source": [
        "import numpy as np\n",
        "from collections import Counter\n",
        "\n",
        "def euclidean_distance(x1, x2):\n",
        "    return np.sqrt(np.sum((x1 - x2) ** 2))\n",
        "\n",
        "y_test_predicted = np.zeros(len(X_test), dtype=int)\n",
        "\n",
        "for i in range(len(X_test)):\n",
        "    x_test = X_test[i]\n",
        "    D = np.array([euclidean_distance(x_test, x_train) for x_train in X_train])\n",
        "    min_dist_indices = np.argsort(D)[:k]\n",
        "    y_neighbor = y_train[min_dist_indices]\n",
        "    y_test_predicted[i] = Counter(y_neighbor).most_common(1)[0][0]\n",
        "\n",
        "print(\"Predicted labels for test set:\", y_test_predicted)"
      ],
      "metadata": {
        "colab": {
          "base_uri": "https://localhost:8080/"
        },
        "id": "NAV-3uopCDsE",
        "outputId": "abad6700-aa30-43ed-aadf-975998a40382"
      },
      "execution_count": 94,
      "outputs": [
        {
          "output_type": "stream",
          "name": "stdout",
          "text": [
            "Predicted labels for test set: [1 2 0 0 2 0 0 0 2 2 1 2 1 1 2 1 0 0 2 1 2 0 2 1 0 0]\n"
          ]
        }
      ]
    },
    {
      "cell_type": "code",
      "source": [
        "correct_predictions = np.sum(y_test == y_test_predicted)\n",
        "total_samples = len(y_test)\n",
        "accuracy = correct_predictions / total_samples\n",
        "\n",
        "print(\"Accuracy (Test): {:.2f}%\".format(accuracy * 100))"
      ],
      "metadata": {
        "colab": {
          "base_uri": "https://localhost:8080/"
        },
        "id": "moeZm1p2C14f",
        "outputId": "1dc425fd-5d28-4448-f7b3-8bb2c5664b97"
      },
      "execution_count": 95,
      "outputs": [
        {
          "output_type": "stream",
          "name": "stdout",
          "text": [
            "Accuracy (Test): 96.15%\n"
          ]
        }
      ]
    }
  ]
}